{
  "cells": [
    {
      "cell_type": "markdown",
      "metadata": {
        "id": "view-in-github",
        "colab_type": "text"
      },
      "source": [
        "<a href=\"https://colab.research.google.com/github/hariskhan-hk/Numpy_PracQues/blob/main/LAB1_Exercises.ipynb\" target=\"_parent\"><img src=\"https://colab.research.google.com/assets/colab-badge.svg\" alt=\"Open In Colab\"/></a>"
      ]
    },
    {
      "cell_type": "code",
      "execution_count": 26,
      "metadata": {
        "id": "q1jjsRvmHwpQ"
      },
      "outputs": [],
      "source": [
        "import numpy as np"
      ]
    },
    {
      "cell_type": "code",
      "execution_count": 27,
      "metadata": {
        "colab": {
          "base_uri": "https://localhost:8080/"
        },
        "id": "GTYXHemLJ2tT",
        "outputId": "94c98954-59af-49ff-ece7-65d42d447c4b"
      },
      "outputs": [
        {
          "output_type": "stream",
          "name": "stdout",
          "text": [
            "Data1: [ 1  3  9 12 18]\n",
            "Data2: [[1 5 2 0]\n",
            " [3 6 4 7]]\n",
            "Data3: [['7' '6']\n",
            " ['5' '4']\n",
            " ['3' '2']]\n",
            "Data4: [[11 52 20 50]\n",
            " [34 61 43 17]]\n"
          ]
        }
      ],
      "source": [
        "#QUESTION NO 02\n",
        "\n",
        "data1 = np.array([1,3,9,12,18]) #1D Array\n",
        "data2 = np.array([[1, 5, 2, 0],[3, 6, 4, 7]]) #2D Array\n",
        "data3 = np.array([['7','6'],['5','4'],['3','2']]) #2D Array with string elements\n",
        "data4 = np.array([[11,52,20,50], [34,61,43,17]]) #2D Array\n",
        "\n",
        "print(\"Data1:\", data1)\n",
        "print(\"Data2:\", data2)\n",
        "print(\"Data3:\", data3)\n",
        "print(\"Data4:\", data4)"
      ]
    },
    {
      "cell_type": "code",
      "execution_count": 28,
      "metadata": {
        "id": "a00edwIOMsi2",
        "colab": {
          "base_uri": "https://localhost:8080/"
        },
        "outputId": "58832389-43d4-4a9d-9e53-4c768d6cfeca"
      },
      "outputs": [
        {
          "output_type": "stream",
          "name": "stdout",
          "text": [
            "[ 2  6 18 24 36]\n",
            "[ 10  30  90 120 180]\n"
          ]
        }
      ],
      "source": [
        "#QUESTION NO 03\n",
        "\n",
        "data1_add = data1 + data1\n",
        "print(data1_add)\n",
        "data1_mul = data1 * 10\n",
        "print(data1_mul)\n",
        "\n",
        "data1 = data1.astype(int)\n",
        "data2 = data2.astype(int)\n",
        "data3 = data3.astype(int)\n",
        "data4 = data4.astype(int)"
      ]
    },
    {
      "cell_type": "code",
      "source": [
        "#QUESTION NO 04\n",
        "\n",
        "array_zeros = np.zeros((3,5))\n",
        "array_ones = np.ones((2,8))\n",
        "array_random = np.random.normal(size = (6,3))\n",
        "\n",
        "print(array_zeros)\n",
        "print(array_ones)\n",
        "print(array_random)"
      ],
      "metadata": {
        "colab": {
          "base_uri": "https://localhost:8080/"
        },
        "id": "2LYHeUGQpMjF",
        "outputId": "24419eaf-4cfa-44a2-ecfe-892f013754c3"
      },
      "execution_count": 29,
      "outputs": [
        {
          "output_type": "stream",
          "name": "stdout",
          "text": [
            "[[0. 0. 0. 0. 0.]\n",
            " [0. 0. 0. 0. 0.]\n",
            " [0. 0. 0. 0. 0.]]\n",
            "[[1. 1. 1. 1. 1. 1. 1. 1.]\n",
            " [1. 1. 1. 1. 1. 1. 1. 1.]]\n",
            "[[ 2.43654571e-01  2.80975662e-01 -4.42166356e-01]\n",
            " [-1.93133895e-01 -1.69421932e-01 -3.52567549e-01]\n",
            " [-1.91548336e+00 -7.76181379e-01  1.93811121e+00]\n",
            " [-7.51062932e-01  1.43868546e+00 -1.01149543e+00]\n",
            " [-1.01147422e+00  1.11223889e+00  4.19691702e-02]\n",
            " [ 1.68461079e-04 -9.32651288e-01 -1.35566916e+00]]\n"
          ]
        }
      ]
    },
    {
      "cell_type": "code",
      "source": [
        "# #QUESTION NO 05\n",
        "\n",
        "sq_data1 = data1[2:4]\n",
        "print(sq_data1**2)\n",
        "\n",
        "sq_data2= data2[[0, 1], [1, 2]]\n",
        "print(sq_data2**2)"
      ],
      "metadata": {
        "colab": {
          "base_uri": "https://localhost:8080/"
        },
        "id": "cw3jiZynpekD",
        "outputId": "6d5e5ed6-faf7-444e-9085-a3ba38e0338b"
      },
      "execution_count": 30,
      "outputs": [
        {
          "output_type": "stream",
          "name": "stdout",
          "text": [
            "[ 81 144]\n",
            "[25 16]\n"
          ]
        }
      ]
    },
    {
      "cell_type": "code",
      "source": [
        "#QUESTION NO 06\n",
        "\n",
        "Subjects = np.array([['ML', 'OS', 'CCN'], ['OS', 'AI', 'MP'], ['CCN', 'ML', 'AI']])\n",
        "Subjects[(Subjects!='ML') & (Subjects!='AI')] = 0\n",
        "\n",
        "print(Subjects)"
      ],
      "metadata": {
        "colab": {
          "base_uri": "https://localhost:8080/"
        },
        "id": "Ie-KbO3vpk8U",
        "outputId": "fc12e7b4-39cc-477e-d3da-00610aca8222"
      },
      "execution_count": 31,
      "outputs": [
        {
          "output_type": "stream",
          "name": "stdout",
          "text": [
            "[['ML' '0' '0']\n",
            " ['0' 'AI' '0']\n",
            " ['0' 'ML' 'AI']]\n"
          ]
        }
      ]
    },
    {
      "cell_type": "code",
      "source": [
        "#QUESTION NO 07\n",
        "\n",
        "data2_transposed = np.transpose(data2)\n",
        "data3_transposed = np.transpose(data3)\n",
        "data4_transposed = np.transpose(data4)\n",
        "\n",
        "print(data2_transposed)\n",
        "print(data3_transposed)\n",
        "print(data4_transposed)"
      ],
      "metadata": {
        "colab": {
          "base_uri": "https://localhost:8080/"
        },
        "id": "_nt9KMbGppUE",
        "outputId": "ee5d5abc-bfdf-48b1-84b9-5e34f6b45d4b"
      },
      "execution_count": 32,
      "outputs": [
        {
          "output_type": "stream",
          "name": "stdout",
          "text": [
            "[[1 3]\n",
            " [5 6]\n",
            " [2 4]\n",
            " [0 7]]\n",
            "[[7 5 3]\n",
            " [6 4 2]]\n",
            "[[11 34]\n",
            " [52 61]\n",
            " [20 43]\n",
            " [50 17]]\n"
          ]
        }
      ]
    },
    {
      "cell_type": "code",
      "source": [
        "#QUESTION NO 08\n",
        "\n",
        "concatenated_vertically = np.vstack((data2, data4))\n",
        "concatenated_horizontally = np.hstack((data2, data4))\n",
        "\n",
        "print(\"Concatenated using vstack:\", concatenated_vertically)\n",
        "print(\"Concatenated using hstack:\", concatenated_horizontally)"
      ],
      "metadata": {
        "colab": {
          "base_uri": "https://localhost:8080/"
        },
        "id": "I52gXpheqY6Z",
        "outputId": "f99b8699-5d39-4f64-d429-203aa17b9c41"
      },
      "execution_count": 33,
      "outputs": [
        {
          "output_type": "stream",
          "name": "stdout",
          "text": [
            "Concatenated using vstack: [[ 1  5  2  0]\n",
            " [ 3  6  4  7]\n",
            " [11 52 20 50]\n",
            " [34 61 43 17]]\n",
            "Concatenated using hstack: [[ 1  5  2  0 11 52 20 50]\n",
            " [ 3  6  4  7 34 61 43 17]]\n"
          ]
        }
      ]
    },
    {
      "cell_type": "code",
      "source": [
        "#QUESTION NO 09\n",
        "\n",
        "mean_data2 = np.mean(data2, axis=0)\n",
        "\n",
        "demeaned_data2 = data2 - mean_data2\n",
        "print(\"Demeaned Data2:\", demeaned_data2)"
      ],
      "metadata": {
        "colab": {
          "base_uri": "https://localhost:8080/"
        },
        "id": "TssYuY1cq7_5",
        "outputId": "05942dc5-0245-4dde-c2d6-45af6f96c8f5"
      },
      "execution_count": 34,
      "outputs": [
        {
          "output_type": "stream",
          "name": "stdout",
          "text": [
            "Demeaned Data2: [[-1.  -0.5 -1.  -3.5]\n",
            " [ 1.   0.5  1.   3.5]]\n"
          ]
        }
      ]
    },
    {
      "cell_type": "code",
      "source": [
        "#QUESTION NO 10\n",
        "\n",
        "reshaped_data2 = np.reshape(data2, (4, 2))\n",
        "\n",
        "print(\"Reshaped Data2:\", reshaped_data2)\n"
      ],
      "metadata": {
        "colab": {
          "base_uri": "https://localhost:8080/"
        },
        "id": "UQD2tbArvYKg",
        "outputId": "339d71ce-2af9-4c2b-e4df-55bd775e033a"
      },
      "execution_count": 35,
      "outputs": [
        {
          "output_type": "stream",
          "name": "stdout",
          "text": [
            "Reshaped Data2: [[1 5]\n",
            " [2 0]\n",
            " [3 6]\n",
            " [4 7]]\n"
          ]
        }
      ]
    },
    {
      "cell_type": "code",
      "source": [
        "#QUESTION NO 11\n",
        "\n",
        "marks_table = np.array([\n",
        "    [60, 70, 50],  # Subject1\n",
        "    [40, 60, 80],  # Subject2\n",
        "    [70, 55, 65]   # Subject3\n",
        "])\n",
        "\n",
        "max_scores_per_subject = np.max(marks_table, axis=1)\n",
        "\n",
        "print(\"Maximum scores per subject:\")\n",
        "print(\"Subject1:\", max_scores_per_subject[0])\n",
        "print(\"Subject2:\", max_scores_per_subject[1])\n",
        "print(\"Subject3:\", max_scores_per_subject[2])"
      ],
      "metadata": {
        "colab": {
          "base_uri": "https://localhost:8080/"
        },
        "id": "11soC4ZTwQO4",
        "outputId": "b8edc4d9-6828-41fd-998c-d489cd98e096"
      },
      "execution_count": 36,
      "outputs": [
        {
          "output_type": "stream",
          "name": "stdout",
          "text": [
            "Maximum scores per subject:\n",
            "Subject1: 70\n",
            "Subject2: 80\n",
            "Subject3: 70\n"
          ]
        }
      ]
    },
    {
      "cell_type": "code",
      "source": [
        "#QUESTION NO 12\n",
        "\n",
        "def grade_point(marks):\n",
        "    conditions = [\n",
        "        marks >= 94,\n",
        "        np.logical_and(marks >= 85, marks <= 93),\n",
        "        np.logical_and(marks >= 80, marks <= 84),\n",
        "        np.logical_and(marks >= 75, marks <= 79),\n",
        "        np.logical_and(marks >= 70, marks <= 74),\n",
        "        np.logical_and(marks >= 67, marks <= 69),\n",
        "        np.logical_and(marks >= 64, marks <= 66),\n",
        "        np.logical_and(marks >= 60, marks <= 63),\n",
        "        np.logical_and(marks >= 57, marks <= 59),\n",
        "        np.logical_and(marks >= 54, marks <= 56),\n",
        "        np.logical_and(marks >= 50, marks <= 53),\n",
        "        marks < 50\n",
        "    ]\n",
        "    grade_points = np.select(conditions, [4.0, 4.0, 3.7, 3.4, 3.0, 2.7, 2.4, 2.0, 1.7, 1.4, 1.0, 0.0])\n",
        "    return grade_points\n",
        "\n",
        "def calculate_cgpa(student_marks, student_credits):\n",
        "    grade_points = grade_point(student_marks)\n",
        "    total_credits = np.sum(student_credits)\n",
        "    if total_credits > 0:\n",
        "        cgpa = np.sum(grade_points * student_credits) / total_credits\n",
        "        return cgpa\n",
        "    else:\n",
        "        print(\"Error: No credits found for the student.\")\n",
        "        return None\n",
        "\n",
        "student1_marks = np.array([60, 40, 70])\n",
        "student1_credits = np.array([2, 3, 4])\n",
        "\n",
        "student2_marks = np.array([70, 60, 55])\n",
        "student2_credits = np.array([2, 3, 4])\n",
        "\n",
        "student3_marks = np.array([50, 80, 65])\n",
        "student3_credits = np.array([2, 3, 4])\n",
        "\n",
        "# Calculate CGPA for each student\n",
        "student1_cgpa = calculate_cgpa(student1_marks, student1_credits)\n",
        "student2_cgpa = calculate_cgpa(student2_marks, student2_credits)\n",
        "student3_cgpa = calculate_cgpa(student3_marks, student3_credits)\n",
        "\n",
        "print(\"Student 1 CGPA:\", student1_cgpa)\n",
        "print(\"Student 2 CGPA:\", student2_cgpa)\n",
        "print(\"Student 3 CGPA:\", student3_cgpa)\n"
      ],
      "metadata": {
        "colab": {
          "base_uri": "https://localhost:8080/"
        },
        "id": "aFOGWuwuwm3H",
        "outputId": "efee4947-47e7-404c-a187-09cc659920af"
      },
      "execution_count": 37,
      "outputs": [
        {
          "output_type": "stream",
          "name": "stdout",
          "text": [
            "Student 1 CGPA: 1.7777777777777777\n",
            "Student 2 CGPA: 1.9555555555555557\n",
            "Student 3 CGPA: 2.5222222222222226\n"
          ]
        }
      ]
    },
    {
      "cell_type": "code",
      "source": [],
      "metadata": {
        "id": "NCP6sSF7xcCO"
      },
      "execution_count": 37,
      "outputs": []
    }
  ],
  "metadata": {
    "colab": {
      "provenance": [],
      "authorship_tag": "ABX9TyNn24YLnJoDGMiBFHJeMfnS",
      "include_colab_link": true
    },
    "kernelspec": {
      "display_name": "Python 3",
      "name": "python3"
    },
    "language_info": {
      "name": "python"
    }
  },
  "nbformat": 4,
  "nbformat_minor": 0
}