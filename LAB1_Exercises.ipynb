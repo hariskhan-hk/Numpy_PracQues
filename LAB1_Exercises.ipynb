{
  "cells": [
    {
      "cell_type": "markdown",
      "metadata": {
        "id": "view-in-github",
        "colab_type": "text"
      },
      "source": [
        "<a href=\"https://colab.research.google.com/github/hariskhan-hk/Numpy_PracQues/blob/main/LAB1_Exercises.ipynb\" target=\"_parent\"><img src=\"https://colab.research.google.com/assets/colab-badge.svg\" alt=\"Open In Colab\"/></a>"
      ]
    },
    {
      "cell_type": "code",
      "execution_count": 45,
      "metadata": {
        "id": "q1jjsRvmHwpQ"
      },
      "outputs": [],
      "source": [
        "import numpy as np"
      ]
    },
    {
      "cell_type": "code",
      "execution_count": 46,
      "metadata": {
        "colab": {
          "base_uri": "https://localhost:8080/"
        },
        "id": "GTYXHemLJ2tT",
        "outputId": "62f6aed5-cef8-4b82-cb18-41eeb8165314"
      },
      "outputs": [
        {
          "output_type": "stream",
          "name": "stdout",
          "text": [
            "Data1: [ 1  3  9 12 18]\n",
            "Data2: [[1 5 2 0]\n",
            " [3 6 4 7]]\n",
            "Data3: [['7' '6']\n",
            " ['5' '4']\n",
            " ['3' '2']]\n",
            "Data4: [[11 52 20 50]\n",
            " [34 61 43 17]]\n"
          ]
        }
      ],
      "source": [
        "#QUESTION NO 02 - Create an ndarray using the following data. Write the code and outputs.\n",
        "#                                                ′7′ ′6′\n",
        "#                              1 𝟓 2 0           ′5′ ′4′           11 52 20 50\n",
        "# 𝐷𝑎𝑡𝑎1 = 1 3 𝟗 𝟏𝟐 18, 𝐷𝑎𝑡𝑎2 = 3 6 𝟒 7,  𝐷𝑎𝑡𝑎3 = ′3′ ′2′ , 𝐷𝑎𝑡𝑎4 = 34 61 43 17\n",
        "\n",
        "data1 = np.array([1,3,9,12,18]) #1D Array\n",
        "data2 = np.array([[1, 5, 2, 0],[3, 6, 4, 7]]) #2D Array\n",
        "data3 = np.array([['7','6'],['5','4'],['3','2']]) #2D Array with string elements\n",
        "data4 = np.array([[11,52,20,50], [34,61,43,17]]) #2D Array\n",
        "\n",
        "print(\"Data1:\", data1)\n",
        "print(\"Data2:\", data2)\n",
        "print(\"Data3:\", data3)\n",
        "print(\"Data4:\", data4)"
      ]
    },
    {
      "cell_type": "code",
      "execution_count": 47,
      "metadata": {
        "id": "a00edwIOMsi2",
        "colab": {
          "base_uri": "https://localhost:8080/"
        },
        "outputId": "bc6e667f-59c4-4788-d40f-b34062bf03c7"
      },
      "outputs": [
        {
          "output_type": "stream",
          "name": "stdout",
          "text": [
            "[ 2  6 18 24 36]\n",
            "[ 10  30  90 120 180]\n"
          ]
        }
      ],
      "source": [
        "#QUESTION NO 03 - Add Data1 in Data1. Multiply Data1 by 10. Convert Data1, Data2, Data3, and Data4 datatypes to integer.\n",
        "\n",
        "data1_add = data1 + data1\n",
        "print(data1_add)\n",
        "data1_mul = data1 * 10\n",
        "print(data1_mul)\n",
        "\n",
        "data1 = data1.astype(int)\n",
        "data2 = data2.astype(int)\n",
        "data3 = data3.astype(int)\n",
        "data4 = data4.astype(int)"
      ]
    },
    {
      "cell_type": "code",
      "source": [
        "#QUESTION NO 04 - Create a 3x5 array of 0s. 2x8 array of 1s, 6x3 array of integer random numbers.\n",
        "\n",
        "array_zeros = np.zeros((3,5))\n",
        "array_ones = np.ones((2,8))\n",
        "array_random = np.random.normal(size = (6,3))\n",
        "\n",
        "print(array_zeros)\n",
        "print(array_ones)\n",
        "print(array_random)"
      ],
      "metadata": {
        "colab": {
          "base_uri": "https://localhost:8080/"
        },
        "id": "2LYHeUGQpMjF",
        "outputId": "34d50c53-2ec3-465d-a572-ddb03aa70268"
      },
      "execution_count": 48,
      "outputs": [
        {
          "output_type": "stream",
          "name": "stdout",
          "text": [
            "[[0. 0. 0. 0. 0.]\n",
            " [0. 0. 0. 0. 0.]\n",
            " [0. 0. 0. 0. 0.]]\n",
            "[[1. 1. 1. 1. 1. 1. 1. 1.]\n",
            " [1. 1. 1. 1. 1. 1. 1. 1.]]\n",
            "[[ 1.06508331  1.12918349 -0.17575962]\n",
            " [-1.04289011  0.58233996  0.33690411]\n",
            " [-0.3773833   0.53630828 -0.06121706]\n",
            " [-0.61708386  0.05604     2.64230456]\n",
            " [ 0.58852249  0.20913986 -1.60691912]\n",
            " [ 2.11043096  0.09997955 -0.30906108]]\n"
          ]
        }
      ]
    },
    {
      "cell_type": "code",
      "source": [
        "# #QUESTION NO 05 - Square the bold elements of Data1 and Data2. Hint: use indexing and slicing.\n",
        "\n",
        "sq_data1 = data1[2:4]\n",
        "print(sq_data1**2)\n",
        "\n",
        "sq_data2= data2[[0, 1], [1, 2]]\n",
        "print(sq_data2**2)"
      ],
      "metadata": {
        "colab": {
          "base_uri": "https://localhost:8080/"
        },
        "id": "cw3jiZynpekD",
        "outputId": "af05d2a9-80dd-4d0a-80a5-76917dc964aa"
      },
      "execution_count": 49,
      "outputs": [
        {
          "output_type": "stream",
          "name": "stdout",
          "text": [
            "[ 81 144]\n",
            "[25 16]\n"
          ]
        }
      ]
    },
    {
      "cell_type": "code",
      "source": [
        "                                               # 𝑀𝐿 𝑂𝑆 𝐶𝐶𝑁\n",
        "#QUESTION NO 06 - Consider an array Subjects = # 𝑂𝑆 𝐴𝐼 𝑀𝑃 . Set all courses to 0 except ML and AI. Hint: use Boolean indexing.\n",
        "                                               # 𝐶𝐶𝑁 𝑀𝐿 𝐴𝐼\n",
        "\n",
        "Subjects = np.array([['ML', 'OS', 'CCN'], ['OS', 'AI', 'MP'], ['CCN', 'ML', 'AI']])\n",
        "Subjects[(Subjects!='ML') & (Subjects!='AI')] = 0\n",
        "\n",
        "print(Subjects)"
      ],
      "metadata": {
        "colab": {
          "base_uri": "https://localhost:8080/"
        },
        "id": "Ie-KbO3vpk8U",
        "outputId": "ce5690ca-ba4a-4163-fa7f-7ef3c410ab39"
      },
      "execution_count": 50,
      "outputs": [
        {
          "output_type": "stream",
          "name": "stdout",
          "text": [
            "[['ML' '0' '0']\n",
            " ['0' 'AI' '0']\n",
            " ['0' 'ML' 'AI']]\n"
          ]
        }
      ]
    },
    {
      "cell_type": "code",
      "source": [
        "#QUESTION NO 07 - Transpose the Data2, Data3, and Data4 arrays using appropriate function\n",
        "\n",
        "data2_transposed = np.transpose(data2)\n",
        "data3_transposed = np.transpose(data3)\n",
        "data4_transposed = np.transpose(data4)\n",
        "\n",
        "print(data2_transposed)\n",
        "print(data3_transposed)\n",
        "print(data4_transposed)"
      ],
      "metadata": {
        "colab": {
          "base_uri": "https://localhost:8080/"
        },
        "id": "_nt9KMbGppUE",
        "outputId": "d063bb26-037c-4b23-8f58-c75c639eed07"
      },
      "execution_count": 51,
      "outputs": [
        {
          "output_type": "stream",
          "name": "stdout",
          "text": [
            "[[1 3]\n",
            " [5 6]\n",
            " [2 4]\n",
            " [0 7]]\n",
            "[[7 5 3]\n",
            " [6 4 2]]\n",
            "[[11 34]\n",
            " [52 61]\n",
            " [20 43]\n",
            " [50 17]]\n"
          ]
        }
      ]
    },
    {
      "cell_type": "code",
      "source": [
        "#QUESTION NO 08 - Concatenate Data2 and Data4 using vstack and hstack.\n",
        "\n",
        "concatenated_vertically = np.vstack((data2, data4))\n",
        "concatenated_horizontally = np.hstack((data2, data4))\n",
        "\n",
        "print(\"Concatenated using vstack:\", concatenated_vertically)\n",
        "print(\"Concatenated using hstack:\", concatenated_horizontally)"
      ],
      "metadata": {
        "colab": {
          "base_uri": "https://localhost:8080/"
        },
        "id": "I52gXpheqY6Z",
        "outputId": "be425887-7500-46d0-df45-ea2174fc6513"
      },
      "execution_count": 52,
      "outputs": [
        {
          "output_type": "stream",
          "name": "stdout",
          "text": [
            "Concatenated using vstack: [[ 1  5  2  0]\n",
            " [ 3  6  4  7]\n",
            " [11 52 20 50]\n",
            " [34 61 43 17]]\n",
            "Concatenated using hstack: [[ 1  5  2  0 11 52 20 50]\n",
            " [ 3  6  4  7 34 61 43 17]]\n"
          ]
        }
      ]
    },
    {
      "cell_type": "code",
      "source": [
        "#QUESTION NO 09 - Demean each column of Data2. Hint: use broadcasting\n",
        "\n",
        "mean_data2 = np.mean(data2, axis=0)\n",
        "\n",
        "demeaned_data2 = data2 - mean_data2\n",
        "print(\"Demeaned Data2:\", demeaned_data2)"
      ],
      "metadata": {
        "colab": {
          "base_uri": "https://localhost:8080/"
        },
        "id": "TssYuY1cq7_5",
        "outputId": "b2e27c4c-968f-469e-dfcc-00bc50d731de"
      },
      "execution_count": 53,
      "outputs": [
        {
          "output_type": "stream",
          "name": "stdout",
          "text": [
            "Demeaned Data2: [[-1.  -0.5 -1.  -3.5]\n",
            " [ 1.   0.5  1.   3.5]]\n"
          ]
        }
      ]
    },
    {
      "cell_type": "code",
      "source": [
        "#QUESTION NO 10 - Convert Data2 shape into 4x2. Hint: Use reshape function.\n",
        "\n",
        "reshaped_data2 = np.reshape(data2, (4, 2))\n",
        "\n",
        "print(\"Reshaped Data2:\", reshaped_data2)\n"
      ],
      "metadata": {
        "colab": {
          "base_uri": "https://localhost:8080/"
        },
        "id": "UQD2tbArvYKg",
        "outputId": "93e47119-b9e6-4712-802a-037e43b21f04"
      },
      "execution_count": 54,
      "outputs": [
        {
          "output_type": "stream",
          "name": "stdout",
          "text": [
            "Reshaped Data2: [[1 5]\n",
            " [2 0]\n",
            " [3 6]\n",
            " [4 7]]\n"
          ]
        }
      ]
    },
    {
      "cell_type": "code",
      "source": [
        "#QUESTION NO 11 - Consider the table having marks of three students scored in three subjects. Compute the maximum score of each subject. Hint: use max function\n",
        "\n",
        "marks_table = np.array([\n",
        "    [60, 70, 50],  # Subject1\n",
        "    [40, 60, 80],  # Subject2\n",
        "    [70, 55, 65]   # Subject3\n",
        "])\n",
        "\n",
        "max_scores_per_subject = np.max(marks_table, axis=1)\n",
        "\n",
        "print(\"Maximum scores per subject:\")\n",
        "print(\"Subject1:\", max_scores_per_subject[0])\n",
        "print(\"Subject2:\", max_scores_per_subject[1])\n",
        "print(\"Subject3:\", max_scores_per_subject[2])"
      ],
      "metadata": {
        "colab": {
          "base_uri": "https://localhost:8080/"
        },
        "id": "11soC4ZTwQO4",
        "outputId": "653cecbe-8e7b-4cde-bd5f-5447f1105ddc"
      },
      "execution_count": 55,
      "outputs": [
        {
          "output_type": "stream",
          "name": "stdout",
          "text": [
            "Maximum scores per subject:\n",
            "Subject1: 70\n",
            "Subject2: 80\n",
            "Subject3: 70\n"
          ]
        }
      ]
    },
    {
      "cell_type": "code",
      "source": [
        "#QUESTION NO 12 - Compute the CGPA of all three students using the following formula and tables 1.11 and 1.12 (Hint: Use ufunc methods).\n",
        "\n",
        "def grade_point(marks):\n",
        "    conditions = [\n",
        "        marks >= 94,\n",
        "        np.logical_and(marks >= 85, marks <= 93),\n",
        "        np.logical_and(marks >= 80, marks <= 84),\n",
        "        np.logical_and(marks >= 75, marks <= 79),\n",
        "        np.logical_and(marks >= 70, marks <= 74),\n",
        "        np.logical_and(marks >= 67, marks <= 69),\n",
        "        np.logical_and(marks >= 64, marks <= 66),\n",
        "        np.logical_and(marks >= 60, marks <= 63),\n",
        "        np.logical_and(marks >= 57, marks <= 59),\n",
        "        np.logical_and(marks >= 54, marks <= 56),\n",
        "        np.logical_and(marks >= 50, marks <= 53),\n",
        "        marks < 50\n",
        "    ]\n",
        "    grade_points = np.select(conditions, [4.0, 4.0, 3.7, 3.4, 3.0, 2.7, 2.4, 2.0, 1.7, 1.4, 1.0, 0.0])\n",
        "    return grade_points\n",
        "\n",
        "def calculate_cgpa(student_marks, student_credits):\n",
        "    grade_points = grade_point(student_marks)\n",
        "    total_credits = np.sum(student_credits)\n",
        "    if total_credits > 0:\n",
        "        cgpa = np.sum(grade_points * student_credits) / total_credits\n",
        "        return cgpa\n",
        "    else:\n",
        "        print(\"Error: No credits found for the student.\")\n",
        "        return None\n",
        "\n",
        "student1_marks = np.array([60, 40, 70])\n",
        "student1_credits = np.array([2, 3, 4])\n",
        "\n",
        "student2_marks = np.array([70, 60, 55])\n",
        "student2_credits = np.array([2, 3, 4])\n",
        "\n",
        "student3_marks = np.array([50, 80, 65])\n",
        "student3_credits = np.array([2, 3, 4])\n",
        "\n",
        "# Calculate CGPA for each student\n",
        "student1_cgpa = calculate_cgpa(student1_marks, student1_credits)\n",
        "student2_cgpa = calculate_cgpa(student2_marks, student2_credits)\n",
        "student3_cgpa = calculate_cgpa(student3_marks, student3_credits)\n",
        "\n",
        "print(\"Student 1 CGPA:\", student1_cgpa)\n",
        "print(\"Student 2 CGPA:\", student2_cgpa)\n",
        "print(\"Student 3 CGPA:\", student3_cgpa)\n"
      ],
      "metadata": {
        "colab": {
          "base_uri": "https://localhost:8080/"
        },
        "id": "aFOGWuwuwm3H",
        "outputId": "ec84a12a-5f6a-413b-b312-defa7bf3fcbc"
      },
      "execution_count": 56,
      "outputs": [
        {
          "output_type": "stream",
          "name": "stdout",
          "text": [
            "Student 1 CGPA: 1.7777777777777777\n",
            "Student 2 CGPA: 1.9555555555555557\n",
            "Student 3 CGPA: 2.5222222222222226\n"
          ]
        }
      ]
    },
    {
      "cell_type": "code",
      "source": [
        "#QUESTION NO 13 - Compute the sorted unique values in subjects array\n",
        "\n",
        "subjects = np.array([\n",
        "    ['ML', 'OS', 'CCN'],\n",
        "    ['OS', 'AI', 'MP'],\n",
        "    ['CCN', 'ML', 'AI']\n",
        "])\n",
        "\n",
        "unique_subjects = np.unique(subjects)\n",
        "print(unique_subjects)\n"
      ],
      "metadata": {
        "colab": {
          "base_uri": "https://localhost:8080/"
        },
        "id": "NCP6sSF7xcCO",
        "outputId": "777607bf-c244-4697-fc27-62d84f560ab0"
      },
      "execution_count": 57,
      "outputs": [
        {
          "output_type": "stream",
          "name": "stdout",
          "text": [
            "['AI' 'CCN' 'ML' 'MP' 'OS']\n"
          ]
        }
      ]
    },
    {
      "cell_type": "code",
      "source": [
        "#QUESTION NO 14 - Compute the dot product and inverse of 4x4 random matrix. Hint: Use numpy.linalg functions.\n",
        "\n",
        "matrix = np.random.rand(4, 4)\n",
        "\n",
        "dot_product = np.dot(matrix, matrix)\n",
        "print(\"Dot product of the matrix with itself:\\n\", dot_product)\n",
        "\n",
        "try:\n",
        "  matrix_inv = np.linalg.inv(matrix)\n",
        "  print(\"Inverse of the matrix:\\n\", matrix_inv)\n",
        "except np.linalg.LinAlgError as e:\n",
        "  print(\"Error: Matrix is not invertible.\", e)\n"
      ],
      "metadata": {
        "colab": {
          "base_uri": "https://localhost:8080/"
        },
        "id": "n-Qpchrqha9V",
        "outputId": "6ba213e6-c135-4a12-939b-152f6babc6de"
      },
      "execution_count": 58,
      "outputs": [
        {
          "output_type": "stream",
          "name": "stdout",
          "text": [
            "Dot product of the matrix with itself:\n",
            " [[1.70615878 1.65654169 1.50420038 1.80001488]\n",
            " [1.59729009 1.55748238 1.3939179  1.4144448 ]\n",
            " [1.30036197 1.25036036 1.19584477 1.13364033]\n",
            " [1.78433196 1.76433432 1.53181459 2.09015747]]\n",
            "Inverse of the matrix:\n",
            " [[-15.42043709  -7.99393053  16.72202629   9.98831646]\n",
            " [ 17.08736218  10.34655842 -20.10392028 -10.49542023]\n",
            " [  0.05979334  -1.18289145   0.49403806   0.85393056]\n",
            " [ -0.88740131  -0.65832746   2.77125715  -0.09450333]]\n"
          ]
        }
      ]
    },
    {
      "cell_type": "code",
      "source": [
        "#QUESTION NO 15 - Store all the created arrays on disk.\n",
        "\n",
        "#There are many arrays, some are shown to be stored on disk\n",
        "\n",
        "#Save on disk in an uncompressed file\n",
        "np.savez('lab1_allarrays.npz', data1 = data1, data2 = data2, data3 = data3, data4 = data4, array_zeros = array_zeros, array_ones = array_ones, array_random = array_random)\n",
        "\n",
        "#OR\n",
        "\n",
        "#Save on disk in a compressed file\n",
        "np.savez_compressed('lab1_allarrays_compressed.npz', data1 = data1, data2 = data2, data3 = data3, data4 = data4, array_zeros = array_zeros, array_ones = array_ones, array_random = array_random)"
      ],
      "metadata": {
        "id": "S1JRThKol-qy"
      },
      "execution_count": 59,
      "outputs": []
    }
  ],
  "metadata": {
    "colab": {
      "provenance": [],
      "authorship_tag": "ABX9TyNsYwTFZ6DFcBHbQBZ5WaMd",
      "include_colab_link": true
    },
    "kernelspec": {
      "display_name": "Python 3",
      "name": "python3"
    },
    "language_info": {
      "name": "python"
    }
  },
  "nbformat": 4,
  "nbformat_minor": 0
}