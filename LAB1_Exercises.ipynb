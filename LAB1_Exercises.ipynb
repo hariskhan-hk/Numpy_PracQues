{
  "nbformat": 4,
  "nbformat_minor": 0,
  "metadata": {
    "colab": {
      "provenance": [],
      "authorship_tag": "ABX9TyOElsW61M8Itl8naS+bU6sS",
      "include_colab_link": true
    },
    "kernelspec": {
      "name": "python3",
      "display_name": "Python 3"
    },
    "language_info": {
      "name": "python"
    }
  },
  "cells": [
    {
      "cell_type": "markdown",
      "metadata": {
        "id": "view-in-github",
        "colab_type": "text"
      },
      "source": [
        "<a href=\"https://colab.research.google.com/github/hariskhan-hk/Numpy_PracQues/blob/main/LAB1_Exercises.ipynb\" target=\"_parent\"><img src=\"https://colab.research.google.com/assets/colab-badge.svg\" alt=\"Open In Colab\"/></a>"
      ]
    },
    {
      "cell_type": "code",
      "execution_count": 1,
      "metadata": {
        "id": "q1jjsRvmHwpQ"
      },
      "outputs": [],
      "source": [
        "import numpy as np"
      ]
    },
    {
      "cell_type": "code",
      "source": [
        "#QUESTION NO 02\n",
        "\n",
        "Data1 = np.array([1,3,9,12,18]) #1D Array\n",
        "Data2 = np.array([[1,5,2,0],[3,6,4,7]]) #2D Array\n",
        "Data3 = np.array([['7','6'],['5','4'],['3','2']]) #2D Array with string elements\n",
        "Data4 = np.array([[11,52,20,50], [34,61,43,17]]) #2D Array\n",
        "\n",
        "print(\"Data1:\", Data1)\n",
        "print(\"Data2:\", Data2)\n",
        "print(\"Data3:\", Data3)\n",
        "print(\"Data4:\", Data4)"
      ],
      "metadata": {
        "colab": {
          "base_uri": "https://localhost:8080/"
        },
        "id": "GTYXHemLJ2tT",
        "outputId": "9d09f26b-da15-49e5-fc44-b5804d3a16bb"
      },
      "execution_count": 5,
      "outputs": [
        {
          "output_type": "stream",
          "name": "stdout",
          "text": [
            "Data1: [ 1  3  9 12 18]\n",
            "Data2: [[1 5 2 0]\n",
            " [3 6 4 7]]\n",
            "Data3: [['7' '6']\n",
            " ['5' '4']\n",
            " ['3' '2']]\n",
            "Data4: [[11 52 20 50]\n",
            " [34 61 43 17]]\n"
          ]
        }
      ]
    },
    {
      "cell_type": "code",
      "source": [
        "#QUESTION NO 03\n",
        "\n",
        "Data1_add = Data1 + Data1\n",
        "print(Data1_add)\n",
        "Data1_mul = Data1 * 10\n",
        "print(Data1_mul)\n",
        "\n",
        "Data1 = Data1.astype(int)\n",
        "Data2 = Data1.astype(int)\n",
        "Data3 = Data1.astype(int)\n",
        "Data4 = Data1.astype(int)"
      ],
      "metadata": {
        "colab": {
          "base_uri": "https://localhost:8080/"
        },
        "id": "a00edwIOMsi2",
        "outputId": "df5a3100-4028-4443-ac68-83b445d45125"
      },
      "execution_count": 11,
      "outputs": [
        {
          "output_type": "stream",
          "name": "stdout",
          "text": [
            "[ 2  6 18 24 36]\n",
            "[ 10  30  90 120 180]\n"
          ]
        }
      ]
    },
    {
      "cell_type": "code",
      "source": [],
      "metadata": {
        "id": "UHTFEthDSjIL"
      },
      "execution_count": null,
      "outputs": []
    }
  ]
}