{
  "nbformat": 4,
  "nbformat_minor": 0,
  "metadata": {
    "colab": {
      "provenance": [],
      "authorship_tag": "ABX9TyMIOMagMzPinjIicnF3CPpu",
      "include_colab_link": true
    },
    "kernelspec": {
      "name": "python3",
      "display_name": "Python 3"
    },
    "language_info": {
      "name": "python"
    }
  },
  "cells": [
    {
      "cell_type": "markdown",
      "metadata": {
        "id": "view-in-github",
        "colab_type": "text"
      },
      "source": [
        "<a href=\"https://colab.research.google.com/github/hariskhan-hk/Numpy_PracQues/blob/main/LAB1_Exercises.ipynb\" target=\"_parent\"><img src=\"https://colab.research.google.com/assets/colab-badge.svg\" alt=\"Open In Colab\"/></a>"
      ]
    },
    {
      "cell_type": "code",
      "execution_count": 34,
      "metadata": {
        "id": "q1jjsRvmHwpQ"
      },
      "outputs": [],
      "source": [
        "import numpy as np"
      ]
    },
    {
      "cell_type": "code",
      "source": [
        "#QUESTION NO 02\n",
        "\n",
        "data1 = np.array([1,3,9,12,18]) #1D Array\n",
        "data2 = np.array([[1,5,2,0],[3,6,4,7]]) #2D Array\n",
        "data3 = np.array([['7','6'],['5','4'],['3','2']]) #2D Array with string elements\n",
        "data4 = np.array([[11,52,20,50], [34,61,43,17]]) #2D Array\n",
        "\n",
        "print(\"Data1:\", data1)\n",
        "print(\"Data2:\", data2)\n",
        "print(\"Data3:\", data3)\n",
        "print(\"Data4:\", data4)"
      ],
      "metadata": {
        "colab": {
          "base_uri": "https://localhost:8080/"
        },
        "id": "GTYXHemLJ2tT",
        "outputId": "c7f5e6d7-7c71-4b65-eabd-f0d16712ed93"
      },
      "execution_count": 44,
      "outputs": [
        {
          "output_type": "stream",
          "name": "stdout",
          "text": [
            "Data1: [ 1  3  9 12 18]\n",
            "Data2: [[1 5 2 0]\n",
            " [3 6 4 7]]\n",
            "Data3: [['7' '6']\n",
            " ['5' '4']\n",
            " ['3' '2']]\n",
            "Data4: [[11 52 20 50]\n",
            " [34 61 43 17]]\n"
          ]
        }
      ]
    },
    {
      "cell_type": "code",
      "source": [
        "#QUESTION NO 03\n",
        "\n",
        "data1_add = data1 + data1\n",
        "print(data1_add)\n",
        "data1_mul = data1 * 10\n",
        "print(data1_mul)\n",
        "\n",
        "data1 = data1.astype(int)\n",
        "data2 = data1.astype(int)\n",
        "data3 = data1.astype(int)\n",
        "data4 = data1.astype(int)"
      ],
      "metadata": {
        "colab": {
          "base_uri": "https://localhost:8080/"
        },
        "id": "a00edwIOMsi2",
        "outputId": "fdad404c-502a-45fe-c336-d677907fb3c7"
      },
      "execution_count": 36,
      "outputs": [
        {
          "output_type": "stream",
          "name": "stdout",
          "text": [
            "[ 2  6 18 24 36]\n",
            "[ 10  30  90 120 180]\n"
          ]
        }
      ]
    },
    {
      "cell_type": "code",
      "source": [
        "#QUESTION NO 04\n",
        "\n",
        "array_zeros = np.zeros((3,5))\n",
        "array_ones = np.ones((2,8))\n",
        "array_random = np.random.normal(size = (6,3))\n",
        "\n",
        "print(array_zeros)\n",
        "print(array_ones)\n",
        "print(array_random)"
      ],
      "metadata": {
        "colab": {
          "base_uri": "https://localhost:8080/"
        },
        "id": "UHTFEthDSjIL",
        "outputId": "f228f114-f291-466d-d6e1-378981dd72c2"
      },
      "execution_count": 37,
      "outputs": [
        {
          "output_type": "stream",
          "name": "stdout",
          "text": [
            "[[0. 0. 0. 0. 0.]\n",
            " [0. 0. 0. 0. 0.]\n",
            " [0. 0. 0. 0. 0.]]\n",
            "[[1. 1. 1. 1. 1. 1. 1. 1.]\n",
            " [1. 1. 1. 1. 1. 1. 1. 1.]]\n",
            "[[ 0.86077871  0.68029351  1.03704388]\n",
            " [-0.46023125 -0.39227444 -0.21649747]\n",
            " [ 0.9355863  -1.79760912  0.44800645]\n",
            " [-0.89737753 -0.08681704  0.02064853]\n",
            " [-0.26160074 -1.49244218 -0.35157672]\n",
            " [ 0.76116554  0.41412774 -2.15263199]]\n"
          ]
        }
      ]
    },
    {
      "cell_type": "code",
      "source": [
        "#QUESTION NO 05\n",
        "\n",
        "sq_data1 = data1[2:4]**2\n",
        "sq_data2 = data2[[0, 1], [1, 2]]\n",
        "sq_data2 = sq_data2**2\n",
        "\n",
        "print(sq_data1)\n",
        "print(sq_data2)"
      ],
      "metadata": {
        "id": "FjhH5i2qYBM4",
        "outputId": "ca2c9df6-0535-48b4-e69a-17a7cd1bf990",
        "colab": {
          "base_uri": "https://localhost:8080/"
        }
      },
      "execution_count": 46,
      "outputs": [
        {
          "output_type": "stream",
          "name": "stdout",
          "text": [
            "[ 81 144]\n",
            "[25 16]\n"
          ]
        }
      ]
    },
    {
      "cell_type": "code",
      "source": [
        "#QUESTION NO 06\n",
        "\n",
        "Subjects = np.array([['ML', 'OS', 'CCN'], ['OS', 'AI', 'MP'], ['CCN', 'ML', 'AI']])\n",
        "Subjects[(Subjects!='ML') & (Subjects!='AI')] = 0\n",
        "\n",
        "print(Subjects)"
      ],
      "metadata": {
        "id": "09IwxsaUmnI4",
        "outputId": "89c8d75c-efa8-4759-e7a1-5aacb9812263",
        "colab": {
          "base_uri": "https://localhost:8080/"
        }
      },
      "execution_count": 48,
      "outputs": [
        {
          "output_type": "stream",
          "name": "stdout",
          "text": [
            "[['ML' '0' '0']\n",
            " ['0' 'AI' '0']\n",
            " ['0' 'ML' 'AI']]\n"
          ]
        }
      ]
    }
  ]
}